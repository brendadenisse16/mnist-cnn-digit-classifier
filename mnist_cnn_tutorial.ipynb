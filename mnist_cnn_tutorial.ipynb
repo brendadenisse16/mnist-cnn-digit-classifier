{
 "cells": [
  {
   "cell_type": "markdown",
   "id": "660e4e67",
   "metadata": {},
   "source": [
    "\n",
    "# 🧠 CNN Classifier on MNIST (with PyTorch)\n",
    "\n",
    "This notebook walks through training a **Convolutional Neural Network (CNN)** on the MNIST handwritten digit dataset using PyTorch.  \n",
    "It is intended to illustrate key deep learning concepts in practice.\n",
    "\n",
    "We will:\n",
    "- Load MNIST data from `.npz` format\n",
    "- Preprocess and normalize inputs\n",
    "- Define a CNN architecture from scratch\n",
    "- Train the model using cross-entropy loss and Adam optimizer\n",
    "- Evaluate on the test set\n"
   ]
  },
  {
   "cell_type": "code",
   "execution_count": 1,
   "id": "f9d56ac9",
   "metadata": {},
   "outputs": [],
   "source": [
    "\n",
    "import numpy as np\n",
    "import torch\n",
    "import torch.nn as nn\n",
    "import torch.nn.functional as F\n",
    "import torch.optim as optim\n",
    "from torch.utils.data import Dataset, DataLoader\n",
    "from sklearn.metrics import accuracy_score\n",
    "import matplotlib.pyplot as plt\n"
   ]
  },
  {
   "cell_type": "code",
   "execution_count": 5,
   "id": "b32f9c52",
   "metadata": {},
   "outputs": [],
   "source": [
    "import numpy as np\n",
    "import matplotlib.pyplot as plt\n",
    "import torch\n",
    "import copy\n",
    "np.set_printoptions(precision=3, suppress=True)  # Print as 0.001 instead of 9.876e-4\n",
    "torch.set_printoptions(precision=3, sci_mode=False)"
   ]
  },
  {
   "cell_type": "markdown",
   "id": "039f3209",
   "metadata": {},
   "source": [
    "**A plotting function that is useful for visualizing the weights of neural networks and images.**"
   ]
  },
  {
   "cell_type": "code",
   "execution_count": 6,
   "id": "134afc79",
   "metadata": {},
   "outputs": [],
   "source": [
    "def plot_matrix_grid(V, cmap='bwr'):\n",
    "    \"\"\"\n",
    "    Given an array V containing stacked matrices, plots them in a grid layout.\n",
    "    V should have shape (K,M,N) where V[k] is a matrix of shape (M,N).\n",
    "    The default cmap is \"bwr\" (blue-white-red) but can also be \"gray\".\n",
    "    \"\"\"\n",
    "    if isinstance(V, torch.Tensor):\n",
    "        V = V.detach().numpy()\n",
    "    assert V.ndim == 3, \"Expected V to have 3 dimensions, not %d\" % V.ndim\n",
    "    k, m, n = V.shape\n",
    "    ncol = 8                                     # At most 8 columns\n",
    "    nrow = min(4, (k + ncol - 1) // ncol)        # At most 4 rows\n",
    "    V = V[:nrow*ncol]                            # Focus on just the matrices we'll actually plot\n",
    "    figsize = (2*ncol, max(1, 2*nrow*(m/n)))     # Guess a good figure shape based on ncol, nrow\n",
    "    fig, axes = plt.subplots(nrow, ncol, sharex=True, sharey=True, figsize=figsize)\n",
    "    vmax = np.percentile(np.abs(V), [99.9])      # Show the main range of values, between 0.1%-99.9%\n",
    "    for v, ax in zip(V, axes.flat):\n",
    "        img = ax.matshow(v, vmin=-vmax, vmax=vmax, cmap=plt.get_cmap(cmap))\n",
    "        ax.set_xticks([])\n",
    "        ax.set_yticks([])\n",
    "    for ax in axes.flat[len(V):]:\n",
    "        ax.set_axis_off()\n",
    "    fig.colorbar(img, cax=fig.add_axes([0.92, 0.25, 0.01, .5]))   # Add a colorbar on the right    "
   ]
  },
  {
   "cell_type": "markdown",
   "id": "b22e228f",
   "metadata": {},
   "source": [
    "\n",
    "# 1. Convolutional Neural Networks on Synthetic Data\n",
    "\n",
    "To generate a synthetic data set and to inspect how a 1D convolutional neural network learns \"pattern detectors\" on it. <u>Building a toy synthetic dataset is good practice when sanity-checking a model that you have never worked with</u>. It will be easy to plot all the features, targets, and predictions all at once.\n",
    "\n",
    "**Run the code cell below** to define a function that will be able to plot your synthetic training set."
   ]
  },
  {
   "cell_type": "code",
   "execution_count": 7,
   "id": "97e5d9c2",
   "metadata": {},
   "outputs": [],
   "source": [
    "def plot_named_tensors(tensor_dict):\n",
    "    \"\"\"\n",
    "    Given a dict of {name: tensor} pairs, plots the tensors side-by-side in a common\n",
    "    color scale. The name of each tensor is shown above its plot.\n",
    "    \"\"\"\n",
    "    n = len(tensor_dict)\n",
    "    vmax = max(v.abs().max() for v in tensor_dict.values())\n",
    "    figsize = (2*n, 6)\n",
    "    fig, axes = plt.subplots(1, n, figsize=figsize,  constrained_layout=True, squeeze=True)\n",
    "    axes = axes.flat if isinstance(axes, np.ndarray) else (axes,)\n",
    "    for (name, v), ax in zip(tensor_dict.items(), axes):\n",
    "        v = torch.squeeze(v.detach())   # Automatically convert (N,1,D) to (N,D)\n",
    "        if v.ndim == 1:\n",
    "            v = v.view(-1, 1)  # Automatically convert (N,) to (N,1)\n",
    "        assert v.ndim == 2, \"couldn't turn tensors[%d] with shape %s into 2D\" % (i, v.shape)\n",
    "        img = ax.matshow(v, vmin=-vmax, vmax=vmax, cmap=plt.get_cmap('bwr'))\n",
    "        ax.set_xticks([])\n",
    "        ax.set_yticks([])\n",
    "        ax.set_title(name)\n",
    "    fig.colorbar(img, cax=fig.add_axes([0.985, 0.25, 0.03, .5]))   # Add a colorbar on the right    "
   ]
  },
  {
   "cell_type": "markdown",
   "id": "39d57a92",
   "metadata": {},
   "source": [
    "## Exercise 1.1 &ndash; Build a synthetic 1D data set\n",
    "\n",
    "Start by building a synthetic training set $\\{(\\mathbf{x}_i, y_i)\\}_{i=1}^N$, where the goal is to \"detect pattern $[0,1,0]$ in the input\". \n",
    " * Each input $\\mathbf{x}_i \\in \\mathbb{R}^{20}$ represents a single-channel 'image' of width $W=20$ having values from $\\{-1, -\\frac{1}{2}, 0, \\frac{1}{2}, 1\\}$.\n",
    " * Each target $y_i \\in \\{0, 1\\}$ represents a class label, with $y_i=1$ if the subsequence $[0,1,0]$ appears somewhere in $\\mathbf{x}_i$.\n",
    " * The dataset should have $N=75$ items. \n",
    "\n",
    "In order to apply [**torch.nn.Conv1d**](https://pytorch.org/docs/stable/nn.html#torch.nn.Conv1d) module to the inputs, you'll need to represent them in a single tensor having \"$(N,C,W)$ format\", which here means $\\mathbf{X} \\in \\mathbb{R}^{75 \\times 1 \\times 20}$. Likewise you'll need the targets to have shape $\\mathbf{y} \\in \\mathbb{R}^{75 \\times 1}$. However, to generate random numbers it is a little simpler to use Numpy like [**np.random.randint**](https://numpy.org/doc/stable/reference/random/generated/numpy.random.randint.html) and [**np.random.choice**](https://numpy.org/doc/stable/reference/random/generated/numpy.random.choice.html). Note that the *randint(a,b)* returns an integer strictly less than *b*.\n",
    "\n",
    "Specific steps to build $\\mathbf{X}$ and $\\mathbf{y}$, that you will have to implement in Python:\n",
    "1. Create $\\mathbf{X}$ and $\\mathbf{y}$ as torch tensors full of zeros.\n",
    "2. For each row $i=0,\\ldots,N-1$:\n",
    "   1. Sample a random integer $\\text{size} \\in \\{1,2\\}$, _i.e._ the size of the subrange of pixels that will be assigned.\n",
    "   2. Sample a random integer $\\text{start} \\in \\{0,\\ldots,W-\\text{size}-1\\}$, _i.e._ the offset from the start of the image.\n",
    "   3. Sample a random choice $\\text{value} \\in \\{-1, -\\frac{1}{2}, \\frac{1}{2}, 1\\}$, _i.e._ the value to fill for the subrange.\n",
    "   4. Assign a stretch of features $X[i,0, \\text{start}:\\text{start}+\\text{size}] = \\text{value}$, which will either be size 1 or 2.\n",
    "   5. Assign target $y[i]$ to be 1 if both $\\text{size}=1$ and $\\text{value} = +1$, _i.e._ if $X[i,0,:]$ has a single \"+1\" pixel somewhere in it.\n",
    "\n",
    "**Code below** If PyTorch complains about not being able to convert *numpy.int32* or *numpy.bool_* to *torch.FloatTensor* you may need to explicitly convert the value to float using *float(value)*.</span>"
   ]
  },
  {
   "cell_type": "code",
   "execution_count": 8,
   "id": "5840a912",
   "metadata": {},
   "outputs": [],
   "source": [
    "np.random.seed(0)  # For reproducibility\n",
    "\n",
    "N = 75  # N = number of training cases\n",
    "C = 1   # C = number of channels (just 1 in our case)\n",
    "W = 20  # W = width of the 1-dimensional input image\n",
    "\n",
    "# We create feature tensor X in \"(N,C,W) format\" (the shape) so that it can\n",
    "# be used directly as input to PyTorch's Conv1D module.\n",
    "X = torch.zeros((N, C, W))   # Start with zeros. You need to assign some of these feature values!\n",
    "y = torch.zeros((N, 1))      # Start with zeros. You need to assign some of these target values!\n",
    "\n",
    "for i in range(N):\n",
    "    # Your code for initializing X and y here. \n",
    "    #A. Sample a random integer size∈{1,2}, i.e. the size of the subrange of pixels that will be assigned.\n",
    "    size = np.random.randint(1, 3) # b =3, because np.random.randint returns an integer < b\n",
    "    #B. Sample a random integer start∈{0,…,𝑊−size−1}, i.e. the offset from the start of the image.\n",
    "    start = np.random.randint(0, W-size)\n",
    "    #C. Sample a random choice value∈{−1,−12,12,1}, i.e. the value to fill for the subrange.\n",
    "    value = np.random.choice([-1, -1/2, 1/2, 1])\n",
    "    # D. Assign a stretch of features 𝑋[𝑖,0,start:start+size]=value, which will either be size 1 or 2.\n",
    "    X[i, 0, start:start+size] = value\n",
    "    # E. Assign target 𝑦[𝑖] to be 1 if both size=1 and value=+1, \n",
    "    y[i] = float(size == 1 and value == 1)"
   ]
  },
  {
   "cell_type": "code",
   "execution_count": 9,
   "id": "cd467691",
   "metadata": {},
   "outputs": [
    {
     "data": {
      "image/png": "[encoded data removed]",
      "text/plain": [
       "<Figure size 400x600 with 3 Axes>"
      ]
     },
     "metadata": {},
     "output_type": "display_data"
    }
   ],
   "source": [
    "plot_named_tensors({'X': X, 'y': y})"
   ]
  },
  {
   "cell_type": "markdown",
   "id": "85e90409",
   "metadata": {},
   "source": [
    "## Exercise 1.2 &ndash; Define a ConvNet architecture suitable for classifing your synthetic data\n",
    "\n",
    "\n",
    "To define a 1D convolutional neural network with the following feed-forward architecture built from the [PyTorch modules](https://pytorch.org/docs/stable/nn.html) mentioned. The architecture should transform an input tensor $X \\in \\mathbb{R}^{N \\times C \\times W}$ into a vector of scalar activations $\\mathbf{a} \\in \\mathbb{R}^{N \\times 1}$. \n",
    "\n",
    "![image](img/conv1d_architecture.png)\n",
    "\n",
    "Comments on the architecture:\n",
    "* The *convolutional* layer is depicted as having exactly enough padding (implicitly zero) to ensure that the output feature maps have the same spatial length ($W=20$) as the input vector had. Notice that if you were to increase the filter size by 2, you need to increase the padding by 1 (padding appears on both ends) to keep the output of convolution the same length as before. See the documentation for the Conv1d module.\n",
    "* The *max pooling* layer is being used here to take the maximum value across each of the 3 feature maps shown. Since we want to take the max over the entire spatial extent of the feature map, we use a large *kernel_size*.\n",
    "* The 1-dimensional convolution and pooling operations require *spatial* data in $(N,C,W)$ format (where $W$ is the spatial dimension), so that the operators know how long the spatial dimension is. However the *linear* (fully-connected) layer doesn't know how to deal with spatial data, so the *flatten* operation simply reshapes the tensor from shape $(N,C,W)$ to shape $(N,D)$ where $D=C \\times W$.\n",
    "* Even though we'll use this architecture for binary classification, we do not add an extra *sigmoid* operation directly to the output. This is done for same reasons as for the multi-class PyTorch neural network from Lab 8. After the model is defined, we can still use it to predict binary class probabilities $\\hat{y}_i \\in [0,1]$ by feeding features $X$ through the model and then feeding the resulting activations $\\mathbf{a}$ through a sigmoid so that class predictions are $\\mathbf{\\hat{y}} = \\sigma(\\mathbf{a})$. \n",
    "\n",
    "**The below code is used to define a PyTorch model with the above architecture.**"
   ]
  },
  {
   "cell_type": "code",
   "execution_count": 10,
   "id": "d89c8d64",
   "metadata": {},
   "outputs": [],
   "source": [
    "torch.manual_seed(0) # Ensure model weights initialized with same random numbers\n",
    "\n",
    "#num_filter = 3   # before\n",
    "num_filter = 4   # The number of filters to learn\n",
    "filter_size = 5  # The size of each filter\n",
    "\n",
    "model = torch.nn.Sequential(\n",
    "    # Your code for defining the model architecture here. Aim for 5-9 lines.\n",
    "    torch.nn.Conv1d(in_channels = C, \n",
    "                    out_channels = num_filter, \n",
    "                    kernel_size = filter_size,\n",
    "                    stride=1, \n",
    "                    padding=filter_size//2),#Floor division \n",
    "    torch.nn.ReLU(),\n",
    "    torch.nn.MaxPool1d(kernel_size=W),\n",
    "    torch.nn.Flatten(),\n",
    "    torch.nn.Linear(in_features=num_filter, out_features=1),\n",
    ")\n"
   ]
  },
  {
   "cell_type": "markdown",
   "id": "f3471b09",
   "metadata": {},
   "source": [
    "**Check your model architecture** by running the code cell below."
   ]
  },
  {
   "cell_type": "code",
   "execution_count": 11,
   "id": "3e8b27b3",
   "metadata": {},
   "outputs": [
    {
     "name": "stdout",
     "output_type": "stream",
     "text": [
      "Looks OK!\n"
     ]
    }
   ],
   "source": [
    "assert len(model) == 5, \"Should be 5 layers!\"\n",
    "assert isinstance(model[0], torch.nn.Conv1d), \"layer 0 should be Conv1d\"\n",
    "assert model[0].in_channels == C, \"layer 0 should expect C input channel\"\n",
    "assert model[0].out_channels == num_filter, \"layer 0 should expect %d output channels\" % num_filter\n",
    "assert model[0].kernel_size[0] == filter_size, \"layer 0 filter size should be %d\" % filter_size\n",
    "assert model[0].padding[0] == filter_size//2\n",
    "assert isinstance(model[1], torch.nn.ReLU), \"layer 1 should be ReLU\"\n",
    "assert isinstance(model[2], torch.nn.MaxPool1d), \"layer 2 should be MaxPool1d\"\n",
    "assert model[2].kernel_size == W, \"layer 2 should pool over the entire input feature map\"\n",
    "assert isinstance(model[3], torch.nn.Flatten), \"layer 3 should by Flatten\"\n",
    "assert isinstance(model[4], torch.nn.Linear), \"layer 4 should be Linear\"\n",
    "assert model[4].in_features == num_filter, \"layer 4 should have accept %d inputs\" % num_filter\n",
    "assert model[4].out_features == 1, \"layer 4 should have only 1 output\"\n",
    "print(\"Looks OK!\")"
   ]
  },
  {
   "cell_type": "markdown",
   "id": "b76c263e",
   "metadata": {},
   "source": [
    "**Plot your model's initial predictions** (i.e. *before* training) by running the code cell below. Notice that the untrained model predicts arbitrary class probabilies that all look similar. This is because the initial weights of the Conv1d and Linear layers are small random values, so the output is only weakly sensitive to the input."
   ]
  },
  {
   "cell_type": "code",
   "execution_count": 12,
   "id": "67d72739",
   "metadata": {},
   "outputs": [
    {
     "name": "stdout",
     "output_type": "stream",
     "text": [
      "tensor([[0.379],\n",
      "        [0.357],\n",
      "        [0.381],\n",
      "        [0.338],\n",
      "        [0.371]], grad_fn=<SliceBackward0>)\n"
     ]
    },
    {
     "data": {
      "image/png": "[encoded data removed]",
      "text/plain": [
       "<Figure size 600x600 with 4 Axes>"
      ]
     },
     "metadata": {},
     "output_type": "display_data"
    }
   ],
   "source": [
    "y_pred = torch.sigmoid(model(X))   # Turn activations into probabilities by feeding through sigmoid\n",
    "print(y_pred[:5])                  # Print the first few probabilities\n",
    "plot_named_tensors({'X': X, '$\\hat{y}$': y_pred, 'y': y})"
   ]
  },
  {
   "cell_type": "markdown",
   "id": "5bf248e3",
   "metadata": {},
   "source": [
    "## Exercise 1.3 &ndash; Train the ConvNet on your synthetic data\n",
    "\n",
    "Here you should train the ConvNet architecture from Exercise 1.2.\n",
    "\n",
    "First, **run the code cell below** to make a copy of the untrained model from Exercise 1.2. This will make it easy to re-run the training code cell multiple times, each time starting from an untrained model (rather than continuing to train the same model!)."
   ]
  },
  {
   "cell_type": "code",
   "execution_count": 13,
   "id": "75e85d64",
   "metadata": {},
   "outputs": [],
   "source": [
    "untrained_model = copy.deepcopy(model)"
   ]
  },
  {
   "cell_type": "markdown",
   "id": "15ad86e9",
   "metadata": {},
   "source": [
    "Next you'll need to define a loss function and implement a standard PyTorch training loop to train a copy of the untrained model. The PyTorch training loop for a ConvNet is identical to that of a neural network.\n",
    "\n",
    "However, for this exercise use the following configuration:\n",
    "* *No mini-batches:* Unlike Lab 8, for this exercise do not use mini-batches. Instead feed the whole $X$ matrix through your model, like `model(X)` to get $N=75$ outputs. In other words, your training loop doesn't need an inner \"mini-batch\" loop.\n",
    "* *Loss function:* Use the \"binary cross entropy\" loss that directly accepts activations ('logits'). In PyTorch this is implemented by the **[torch.nn.BCEWithLogitsLoss](https://pytorch.org/docs/stable/nn.html#torch.nn.BCEWithLogitsLoss)** module. \n",
    "* *Optimizer:* This is the learning algorithm. Use the **[torch.optim.SGD](https://pytorch.org/docs/stable/optim.html#torch.optim.SGD)** optimizer with learning rate $0.05$, momentum $0.9$, and weight decay (weight penalty) of $0.001$.\n",
    "\n",
    "Your training code should also print the current training loss for the first epoch and every 50 epochs after. For example, if you computed your loss in variable `loss_value` then something like this would work:\n",
    "```python\n",
    "for epoch in range(1, num_epoch+1):\n",
    "    \n",
    "    ... your code to apply a step of gradient descent here\n",
    "    \n",
    "    if epoch == 1 or epoch % 50 == 0:\n",
    "        print(\"Epoch %d had training loss %.4f\" % (epoch, loss_value.item()))\n",
    "```\n",
    "where the `.item()` is a method that converts a scalar-valued PyTorch tensor into a standard Python value, like a *float*, so that it can be more easily formatted as part of the string.\n",
    "\n",
    "The output of your training loop should look exactly like this:\n",
    "```\n",
    "Epoch 1 had training loss 0.8562\n",
    "Epoch 50 had training loss 0.3519\n",
    "Epoch 100 had training loss 0.3281\n",
    "Epoch 150 had training loss 0.3212\n",
    "...\n",
    "```\n",
    "However, the loss should not go to zero for the current model architecture. You'll fix that shortly."
   ]
  },
  {
   "cell_type": "code",
   "execution_count": 14,
   "id": "19d9afc4",
   "metadata": {},
   "outputs": [
    {
     "name": "stdout",
     "output_type": "stream",
     "text": [
      "Epoch 1 had training loss 0.5462\n",
      "Epoch 50 had training loss 0.3510\n",
      "Epoch 100 had training loss 0.2914\n",
      "Epoch 150 had training loss 0.1697\n",
      "Epoch 200 had training loss 0.0635\n",
      "Epoch 250 had training loss 0.0318\n",
      "Epoch 300 had training loss 0.0205\n",
      "Epoch 350 had training loss 0.0153\n",
      "Epoch 400 had training loss 0.0125\n",
      "Epoch 450 had training loss 0.0107\n",
      "Epoch 500 had training loss 0.0095\n"
     ]
    }
   ],
   "source": [
    "# Start from a copy of the untrained model, so that when we re-run this code\n",
    "# cell it always resets to the beginning.\n",
    "model = copy.deepcopy(untrained_model)\n",
    "\n",
    "# The number of times to evaluate the full training data (in this case, number of gradient steps)\n",
    "num_epoch = 500\n",
    "\n",
    "# Your code for defining loss, optimizer, and training loop here. Aim for 10-12 lines.\n",
    "\n",
    "# create an object that can compute  loss function \n",
    "loss_function = torch.nn.BCEWithLogitsLoss()\n",
    "# Use stochastic gradient descent to train the model\n",
    "optimizer = torch.optim.SGD(model.parameters(), \n",
    "                            lr=0.05,\n",
    "                            momentum=0.9,\n",
    "                            weight_decay=0.001)\n",
    "for epoch in range(num_epoch):\n",
    "    y_pred = model(X)    #Make predictions (final-layer activations)\n",
    "    loss_value = loss_function(y_pred, y)  #Compute loss with respect to predictions\n",
    "    model.zero_grad()    #Reset all gradient accumulators to zero (PyTorch thing)\n",
    "    loss_value.backward()         # Compute gradient of loss wrt all parameters (backprop!)\n",
    "    optimizer.step()     # Use the gradients to take a step with SGD.\n",
    "        \n",
    "    if epoch == 0 or (epoch+1) % 50 == 0:\n",
    "        print(\"Epoch %d had training loss %.4f\" % (epoch+1, loss_value.item()))"
   ]
  },
  {
   "cell_type": "markdown",
   "id": "dfee7721",
   "metadata": {},
   "source": [
    "**Plot your trained model's predictions** in the code cell below. You should see that the prediction vector has an interesting pattern now (unlike the initial model), but that the predictions still do not quite match the targets."
   ]
  },
  {
   "cell_type": "code",
   "execution_count": 15,
   "id": "f4577819",
   "metadata": {},
   "outputs": [
    {
     "data": {
      "image/png": "[encoded data removed]",
      "text/plain": [
       "<Figure size 600x600 with 4 Axes>"
      ]
     },
     "metadata": {},
     "output_type": "display_data"
    }
   ],
   "source": [
    "y_pred = torch.sigmoid(model(X)) # Turn activations into probabilities by feeding through sigmoid\n",
    "plot_named_tensors({'X': X, '$\\hat{y}$': y_pred, 'y': y})"
   ]
  },
  {
   "cell_type": "markdown",
   "id": "ae24c267",
   "metadata": {},
   "source": [
    "The mismatch between predictions and targets is why the loss did not get close to zero, despite the fact that your ConvNet architecture can, in principle, learn a perfect classifier.\n",
    "\n",
    "If your model architecture was able to get the training loss to zero, the predictions would look more like this:\n",
    "\n",
    "![image](img/synthetic_predictions.png)\n",
    "\n",
    "<span style=\"color:red\">Currently,  your ConvNet training got stuck in a local minimum!</span>\n",
    "To give your ConvNet architecture a better chance at \"getting lucky\" and finding a path from random weights to useful weights, **try going back to Exercise 1.2 and increase the number of filters from 3 to 4**. You will then have to re-run all the code cells up to this point. With an extra filter, your ConvNet is now \"lucky\" enough to find at least one filter that detects a $0,1,0$ pattern."
   ]
  },
  {
   "cell_type": "markdown",
   "id": "84615e68",
   "metadata": {},
   "source": [
    "## Exercise 1.4 Inspect the filters and weights of your ConvNet\n",
    "\n",
    "Here you should visualize both the filter weights and the linear (fully-connected) weights. Use the *plot_matrix_grid* function. If you managed to get your training loss to be small (close to zero) then at least one of your filters should look like this:\n",
    "\n",
    "![image](img/synthetic_filter_example.png)\n",
    "\n",
    "where red means positive and blue means negative. When this filter is convolved with a sequence containing pattern $\\ldots,0,1,0,\\ldots$ it will \"activate\" and have a large output at the position centered on the $1$. That activation then gets selected by the max pooling operation, and is then used to activate the output of the network, giving correct classification.\n",
    "\n",
    "**Below shows a plotting code** to visualize the weights of both layers. Do you see a correspondence between the filter that looks \"right\" and the positive weight(s) in the linear layer?"
   ]
  },
  {
   "cell_type": "code",
   "execution_count": 16,
   "id": "71524f2a",
   "metadata": {},
   "outputs": [
    {
     "name": "stdout",
     "output_type": "stream",
     "text": [
      "torch.Size([4, 1, 5])\n",
      "torch.Size([1, 4])\n"
     ]
    },
    {
     "data": {
      "image/png": "[encoded data removed]",
      "text/plain": [
       "<Figure size 1600x100 with 9 Axes>"
      ]
     },
     "metadata": {},
     "output_type": "display_data"
    },
    {
     "data": {
      "image/png": "[encoded data removed]",
      "text/plain": [
       "<Figure size 1600x100 with 9 Axes>"
      ]
     },
     "metadata": {},
     "output_type": "display_data"
    }
   ],
   "source": [
    "W1, b1, W2, b2 = model.parameters()\n",
    "print(W1.shape)  # The tensor of 4 filters, each with 1 channel and kernel size 5\n",
    "print(W2.shape)  # The matrix of linear (fully-connected) weights that combine the filter responses\n",
    "\n",
    "# Your plotting code here. \n",
    "plot_matrix_grid(W1, cmap='bwr')\n",
    "\n",
    "plot_matrix_grid(W2.reshape(-1, 1, num_filter))\n"
   ]
  },
  {
   "cell_type": "markdown",
   "id": "24a11e3b",
   "metadata": {},
   "source": [
    "<div style=\"border-bottom: 3px solid black; margin-bottom:5px\"></div>\n",
    "<div style=\"border-bottom: 3px solid black\"></div>\n",
    "\n",
    "# 2. Digit classification with Convolutional Neural Networks\n",
    "\n",
    "Exercise 2.1&ndash;This time asking you to train a convolutional neural network on the MNIST data set rather than a fully-connected neural network."
   ]
  },
  {
   "cell_type": "code",
   "execution_count": 17,
   "id": "0d1e187e",
   "metadata": {},
   "outputs": [],
   "source": [
    "def load_mnist_for_convnet(filename):\n",
    "    \"\"\"\n",
    "    Loads the MNIST data from a Numpy NPZ file and returns two PyTorch tensors:\n",
    "    X: a float tensor with shape (N,1,28,28) where N is the number of images in the file\n",
    "    y: an int64 tensor with shape (N,) containing the class targets for the images.\n",
    "    The pixels values are scaled to be in range [0,1] where 0 is black and 1 is white.\n",
    "    \"\"\"\n",
    "    # Your code here. Aim for 7-10 lines.\n",
    "    with np.load(filename) as mnist_data:\n",
    "        \n",
    "        X = mnist_data['X'].astype(np.float32)\n",
    "        y = mnist_data['y'].astype(np.int64)\n",
    "    \n",
    "    X = X / 255 # Features by scaling the pixel intensities from range [0,255] down to [0,1]. \n",
    "    X = X.reshape(-1, 1, 28, 28) \n",
    "        \n",
    "    X = torch.tensor(X) ## X: a tensor with shape (N,1,28,28)\n",
    "    y = torch.tensor(y) #an int64 tensor with shape (N,)\n",
    "        \n",
    "    return X, y\n",
    "\n",
    "X_trn, y_trn = load_mnist_for_convnet(\"mnist_train.npz\")\n",
    "X_tst, y_tst = load_mnist_for_convnet(\"mnist_test.npz\")"
   ]
  },
  {
   "cell_type": "code",
   "execution_count": 18,
   "id": "a05fe2a7",
   "metadata": {},
   "outputs": [
    {
     "name": "stdout",
     "output_type": "stream",
     "text": [
      "Looks good!\n"
     ]
    }
   ],
   "source": [
    "# check your answer\n",
    "assert isinstance(X_trn, torch.FloatTensor), \"Features should be float32!\"\n",
    "assert isinstance(y_trn, torch.LongTensor), \"Targets should be int64 or long!\"\n",
    "assert X_trn.shape == (60000, 1, 28, 28), \"X_trn has wrong shape\"\n",
    "assert y_trn.shape == (60000,), \"y_trn has wrong shape\"\n",
    "assert X_tst.shape == (10000, 1, 28, 28), \"X_tst has wrong shape\"\n",
    "assert y_tst.shape == (10000,), \"y_tst has wrong shape\"\n",
    "assert X_trn.min() == 0 and X_trn.max() == 1, \"Features don't seem to be scaled right!\"\n",
    "print(\"Looks good!\")"
   ]
  },
  {
   "cell_type": "markdown",
   "id": "44bac432",
   "metadata": {},
   "source": [
    "<div style=\"border-bottom: 3px solid black; margin-bottom:5px\"></div>\n",
    "\n",
    "## Exericise 2.2 Train a Convolutional Neural Network on MNIST\n",
    "\n",
    "Here shows how to train a 2D ConvNet to classify MNIST digits. You'll need the *Conv2d* and *MaxPool2d* modules as described in the [PyTorch modules documentation](https://pytorch.org/docs/stable/nn.html). Your architecture will be similar to Part 1 of this lab, except rather than pooling over the entire input signal you will pool only over small 2x2 regions, preserving more spatial information for the subsequent linear (fully-connected) layer to use in classification.\n",
    "\n",
    "**Write a few lines of code** to define a 2D ConvNet with the following feed-forward architecture:\n",
    "1. Convolution with 8 filters each of size 5x5 and enough padding to ensure that each of the resulting feature maps has spatial dimensions 28x28, just like the input.\n",
    "2. Rectified linear transformation (ReLU).\n",
    "3. Max pooling with kernel size 2x2 and a non-overlapping stride (i.e. stride same as kernel size).\n",
    "4. Flatten the spatial information\n",
    "5. Linear (fully-connected) layer to use all the outputs of the max pooling layer as features to make a prediction.\n",
    "\n",
    "(To predict class probabilities you'll have to apply a softmax function to the output, but that is normal in many deep learning frameworks because it makes training more numerically stable.)\n",
    "\n",
    "Hint: the trickiest part "
   ]
  },
  {
   "cell_type": "code",
   "execution_count": 19,
   "id": "3b2a7a00",
   "metadata": {},
   "outputs": [],
   "source": [
    "torch.manual_seed(0) # Ensure model weights initialized with same random numbers\n",
    "\n",
    "num_filter = 8   # The number of filters to learn\n",
    "filter_size = 5  # The size of each filter\n",
    "C = 1   # C = number of channels (just 1 in our case)\n",
    "pooling_size =2 # Max pooling with kernel size 2x2 an\n",
    "padding_size = filter_size//2\n",
    "\n",
    "model = torch.nn.Sequential(\n",
    "    torch.nn.Conv2d(in_channels = C, \n",
    "                    out_channels = num_filter, \n",
    "                    kernel_size = filter_size,\n",
    "                    padding=padding_size),\n",
    "    torch.nn.ReLU(), #Rectified linear transformation (ReLU).\n",
    "    torch.nn.MaxPool2d(kernel_size=pooling_size, \n",
    "                       stride=pooling_size), #Max pooling with kernel size 2x2 and a non-overlapping stride \n",
    "    torch.nn.Flatten(), #Flatten the spatial information\n",
    "    \n",
    "    torch.nn.Linear(in_features= 32 * 7 * 7, \n",
    "                    out_features=10), # 10 classes - Linear (fully-connected) layer \n",
    ")\n",
    "\n"
   ]
  },
  {
   "cell_type": "markdown",
   "id": "630bf69a",
   "metadata": {},
   "source": [
    "**Check your model architecture** by trying to feed some inputs through. If an error is raised, then something is mis-configured in your network. The most likely error is that you did not correctly calculate the expected number of *in_features* for the linear layer, leading to a \"size mismatch\" in the tensors."
   ]
  },
  {
   "cell_type": "code",
   "execution_count": 20,
   "id": "12805863",
   "metadata": {},
   "outputs": [],
   "source": [
    "y_pred = model(X_trn[:5])  # Check model architecture by trying to feed inputs through it.\n",
    "assert y_pred.shape == (5, 10), \"Expected a batch of 5 images to produce output of shape (5, 10)\""
   ]
  },
  {
   "cell_type": "code",
   "execution_count": 21,
   "id": "f6605c68",
   "metadata": {},
   "outputs": [
    {
     "data": {
      "image/png": "[encoded data removed]",
      "text/plain": [
       "<Figure size 400x600 with 3 Axes>"
      ]
     },
     "metadata": {},
     "output_type": "display_data"
    }
   ],
   "source": [
    "# Feed the model's predictions on 30 training cases through a row-wise softmax.\n",
    "y_pred = torch.softmax(model(X_trn[:50]), dim=1)\n",
    "\n",
    "# Convert the first 30 training targets from index format {0,...,9} to a 1-hot format,\n",
    "# for easier side-by-side comparison with the 10-dimensional output prediction.\n",
    "y_true = torch.zeros((50, 10))\n",
    "y_true[torch.arange(50), y_trn[:50]] = 1\n",
    "\n",
    "plot_named_tensors({'$\\hat{y}$': y_pred, '$y$': y_true})"
   ]
  },
  {
   "cell_type": "markdown",
   "id": "29be2266",
   "metadata": {},
   "source": [
    "**Inspect your initial model's filters** by plotting them with the *plot_matrix_grid* function. They should look random and have small values roughly in range $[-0.1, 0.1]$ (Only plot the first layer filter weights, not the linear layer weights.) "
   ]
  },
  {
   "cell_type": "code",
   "execution_count": 22,
   "id": "cb731829",
   "metadata": {},
   "outputs": [
    {
     "data": {
      "image/png": "[encoded data removed]",
      "text/plain": [
       "<Figure size 1600x200 with 9 Axes>"
      ]
     },
     "metadata": {},
     "output_type": "display_data"
    }
   ],
   "source": [
    "W1, b1, W2, b2 = model.parameters()\n",
    "\n",
    "plot_matrix_grid(W1.reshape(-1, filter_size, filter_size))"
   ]
  },
  {
   "cell_type": "markdown",
   "id": "97c7c500",
   "metadata": {},
   "source": [
    "**Train your model** with the following configuration:\n",
    "* Use the *CrossEntropyLoss* (since this is multi-class classification, not binary)\n",
    "* Use the exact same optimizer configuration you used for Part 1 of this lab (learning rate $0.05$, etc).\n",
    "* Use mini-batch training like you did in the neural network lab, with a batch size of $100$.\n",
    "* Train for 5 epochs (5 passes over the full training set)\n",
    "\n",
    "First, define the loss function and optimizer in a separate code cell below:"
   ]
  },
  {
   "cell_type": "code",
   "execution_count": 23,
   "id": "016558c2",
   "metadata": {},
   "outputs": [],
   "source": [
    "batch_size = 100\n",
    "num_epoch = 5\n",
    "\n",
    "loss_function = torch.nn.CrossEntropyLoss()\n",
    "\n",
    "optimizer = torch.optim.SGD(params=model.parameters(),\n",
    "                            lr=0.05, \n",
    "                            momentum=0.9, \n",
    "                            weight_decay=0.001)"
   ]
  },
  {
   "cell_type": "markdown",
   "id": "241a8a6b",
   "metadata": {},
   "source": [
    "Then, write your training loop in a separate code cell below, so that you can re-run this code cell to \"continue\" training with the same optimizer object, if you want to train your model longer.\n"
   ]
  },
  {
   "cell_type": "code",
   "execution_count": 24,
   "id": "71f1a76a",
   "metadata": {},
   "outputs": [
    {
     "name": "stdout",
     "output_type": "stream",
     "text": [
      "Epoch 1 final minibatch had loss 0.2465\n",
      "Epoch 2 final minibatch had loss 0.2075\n",
      "Epoch 3 final minibatch had loss 0.1971\n",
      "Epoch 4 final minibatch had loss 0.1905\n",
      "Epoch 5 final minibatch had loss 0.1882\n"
     ]
    }
   ],
   "source": [
    "for epoch in range(1, num_epoch+1):\n",
    "    for i in range(0, len(X_trn), batch_size): \n",
    "        \n",
    "        X = X_trn[i:i+batch_size]     # Slice out a mini-batch of features\n",
    "        y = y_trn[i:i+batch_size]     # Slice out a mini-batch of targets\n",
    "\n",
    "        y_pred = model(X)                   # Make predictions (final-layer activations)\n",
    "        l = loss_function(y_pred, y)        # Compute loss with respect to predictions\n",
    "        \n",
    "        model.zero_grad()                   # Reset all gradient accumulators to zero (PyTorch thing)\n",
    "        l.backward()                        # Compute gradient of loss wrt all parameters (backprop!)\n",
    "        optimizer.step()                    # Use the gradients to take a step with SGD.\n",
    "        \n",
    "    print(\"Epoch %d final minibatch had loss %.4f\" % (epoch, l.item()))\n"
   ]
  },
  {
   "cell_type": "markdown",
   "id": "54fef684",
   "metadata": {},
   "source": [
    "**Plot your trained model's predictions**. The predictions should look like before, now matching the targets better than before training. \n",
    "\n"
   ]
  },
  {
   "cell_type": "code",
   "execution_count": 25,
   "id": "2fb45316",
   "metadata": {},
   "outputs": [
    {
     "data": {
      "image/png": "[encoded data removed]",
      "text/plain": [
       "<Figure size 400x600 with 3 Axes>"
      ]
     },
     "metadata": {},
     "output_type": "display_data"
    }
   ],
   "source": [
    "y_pred = torch.softmax(model(X_trn[:50]), dim=1)\n",
    "plot_named_tensors({'$\\hat{y}$': y_pred, '$y$': y_true})"
   ]
  },
  {
   "cell_type": "markdown",
   "id": "27a7bd27",
   "metadata": {},
   "source": []
  }
 ],
 "metadata": {
  "kernelspec": {
   "display_name": "3.10.14",
   "language": "python",
   "name": "python3"
  },
  "language_info": {
   "codemirror_mode": {
    "name": "ipython",
    "version": 3
   },
   "file_extension": ".py",
   "mimetype": "text/x-python",
   "name": "python",
   "nbconvert_exporter": "python",
   "pygments_lexer": "ipython3",
   "version": "3.10.14"
  }
 },
 "nbformat": 4,
 "nbformat_minor": 5
}
